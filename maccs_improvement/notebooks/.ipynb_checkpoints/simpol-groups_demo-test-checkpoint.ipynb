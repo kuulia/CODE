{
 "cells": [
  {
   "cell_type": "markdown",
   "metadata": {},
   "source": [
    "# Demo: collecting statistics of the functional groups used by SIMPOL "
   ]
  },
  {
   "cell_type": "markdown",
   "metadata": {},
   "source": [
    "## 1. Running the substructure.py script"
   ]
  },
  {
   "cell_type": "code",
   "execution_count": 4,
   "metadata": {},
   "outputs": [],
   "source": [
    "run ../scripts/aprl_ssp/substructure_search.py -d -g SIMPOLgroups_sane.csv -i ../data/validation/apinenemech.csv  -o apinenemech_SIMPOLgroups.csv"
   ]
  },
  {
   "cell_type": "markdown",
   "metadata": {},
   "source": [
    "## 2. Importing substructure_search as module"
   ]
  },
  {
   "cell_type": "markdown",
   "metadata": {},
   "source": [
    "Load modules"
   ]
  },
  {
   "cell_type": "code",
   "execution_count": 9,
   "metadata": {},
   "outputs": [],
   "source": [
    "import sys\n",
    "import os \n",
    "import pandas\n",
    "import matplotlib.pyplot as plt\n",
    "sys.path.append('../scripts/')\n",
    "from aprl_ssp.substructure_search import search_groups, count_groups, write_output"
   ]
  },
  {
   "cell_type": "markdown",
   "metadata": {},
   "source": [
    "Define list of SIMPOL groups from groupfile"
   ]
  },
  {
   "cell_type": "code",
   "execution_count": 8,
   "metadata": {},
   "outputs": [],
   "source": [
    "groups = pd.read_csv('../scripts/aprl_ssp/SMARTSpatterns/SIMPOLgroups_sane.csv')"
   ]
  },
  {
   "cell_type": "markdown",
   "metadata": {},
   "source": [
    "Load a list of SMILES strings. Each SMILES string is associated with a compound label too"
   ]
  },
  {
   "cell_type": "code",
   "execution_count": 7,
   "metadata": {},
   "outputs": [
    {
     "data": {
      "text/plain": [
       "Index(['compound', 'SMILES'], dtype='object')"
      ]
     },
     "execution_count": 7,
     "metadata": {},
     "output_type": "execute_result"
    }
   ],
   "source": [
    "data = pd.read_csv('../data/validation/apinenemech.csv')\n",
    "data.columns"
   ]
  },
  {
   "cell_type": "markdown",
   "metadata": {},
   "source": [
    "Calculate how many times each functional group/molecular feature used by SIMPOL appears in each molecule"
   ]
  },
  {
   "cell_type": "code",
   "execution_count": null,
   "metadata": {},
   "outputs": [],
   "source": [
    "## output export\n",
    "    if args.export:\n",
    "        exportfile = os.path.join(ddirectory,args.export) ## looks in same directory\n",
    "        export = set_output_export(exportfile)\n",
    "    else:\n",
    "        export = None\n",
    "\n",
    "    if not export and 'export' in groups.columns:\n",
    "        export = groups.index[groups['export'].astype('bool')]\n",
    "        ###_* --- Apply search function\n",
    "    search = search_groups(groups, export) \n",
    "    output = count_groups(inp, search)\n",
    "\n",
    " ###_* --- Export to output\n",
    "    write_output(output, args.outputfile)"
   ]
  },
  {
   "cell_type": "markdown",
   "metadata": {},
   "source": [
    "Plot statistics"
   ]
  },
  {
   "cell_type": "code",
   "execution_count": null,
   "metadata": {},
   "outputs": [],
   "source": []
  }
 ],
 "metadata": {
  "kernelspec": {
   "display_name": "conda-gecko5",
   "language": "python",
   "name": "conda-gecko5"
  },
  "language_info": {
   "codemirror_mode": {
    "name": "ipython",
    "version": 3
   },
   "file_extension": ".py",
   "mimetype": "text/x-python",
   "name": "python",
   "nbconvert_exporter": "python",
   "pygments_lexer": "ipython3",
   "version": "3.10.8"
  }
 },
 "nbformat": 4,
 "nbformat_minor": 4
}
